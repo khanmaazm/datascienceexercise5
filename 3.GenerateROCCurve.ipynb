{
 "cells": [
  {
   "cell_type": "code",
   "execution_count": null,
   "metadata": {},
   "outputs": [],
   "source": [
    "tprarr = []\n",
    "fprarr = []\n",
    "type(tprarr)\n",
    "\n",
    "\n",
    "listthresh = [0.1, 0.2, 0.3, 0.4, 0.5, 0.6, 0.7, 0.8, 0.9]\n",
    "i = 1 \n",
    "for thresholdval in listthresh:\n",
    "  compareoutput[thresholdval] = compareoutput['PredictedProbabity'].apply(lambda x : 1 if x > thresholdval else 0)\n",
    "  tp = compareoutput[(compareoutput['ActualValue'] == 1) & (compareoutput[thresholdval] == 1)][thresholdval].count()\n",
    "  fn = compareoutput[(compareoutput['ActualValue'] == 1) & (compareoutput[thresholdval] == 0)][thresholdval].count()\n",
    "  fp = compareoutput[(compareoutput['ActualValue'] == 0) & (compareoutput[thresholdval] == 1)][thresholdval].count()\n",
    "  tn = compareoutput[(compareoutput['ActualValue'] == 0) & (compareoutput[thresholdval] == 0)][thresholdval].count()\n",
    "  tpr = tp/(tp + fn)\n",
    "  fpr = fp/(fp + tn)\n",
    "  tprarr.append(tpr)\n",
    "  fprarr.append(fpr)\n",
    "  print(thresholdval, tpr, fpr)\n",
    "  #tpr = TP/(TP+FN)\n",
    "#fpr = FP/(FP+TN)\n",
    "\n",
    "\n",
    "\n",
    "import matplotlib.pyplot as plt\n",
    "\n",
    "\n",
    "plt.xlabel('False Positive Rate')\n",
    "plt.ylabel('True Positive Rate')\n",
    "plt.plot(fprarr, tprarr)\n",
    "\n",
    "\n",
    "compareoutput[compareoutput['Predicted'] == compareoutput['ActualValue']].count()/250\n",
    "\n",
    "\n",
    "compareoutput[(compareoutput['ActualValue'] == 0) & (compareoutput['Predicted'] == 0)].count()\n",
    "\n",
    "advertisingdf.head()\n",
    "\n",
    "features = X_train.columns\n",
    "features"
   ]
  }
 ],
 "metadata": {
  "kernelspec": {
   "display_name": "Python 3",
   "language": "python",
   "name": "python3"
  },
  "language_info": {
   "codemirror_mode": {
    "name": "ipython",
    "version": 3
   },
   "file_extension": ".py",
   "mimetype": "text/x-python",
   "name": "python",
   "nbconvert_exporter": "python",
   "pygments_lexer": "ipython3",
   "version": "3.7.6"
  }
 },
 "nbformat": 4,
 "nbformat_minor": 4
}
